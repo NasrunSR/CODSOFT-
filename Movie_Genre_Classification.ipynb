{
  "nbformat": 4,
  "nbformat_minor": 0,
  "metadata": {
    "colab": {
      "provenance": [],
      "authorship_tag": "ABX9TyNqmNHgMGCTWdadfF+50KLu",
      "include_colab_link": true
    },
    "kernelspec": {
      "name": "python3",
      "display_name": "Python 3"
    },
    "language_info": {
      "name": "python"
    }
  },
  "cells": [
    {
      "cell_type": "markdown",
      "metadata": {
        "id": "view-in-github",
        "colab_type": "text"
      },
      "source": [
        "<a href=\"https://colab.research.google.com/github/NasrunSR/CODSOFT-/blob/main/Movie_Genre_Classification.ipynb\" target=\"_parent\"><img src=\"https://colab.research.google.com/assets/colab-badge.svg\" alt=\"Open In Colab\"/></a>"
      ]
    },
    {
      "cell_type": "markdown",
      "source": [
        "#Movie Genre Classification"
      ],
      "metadata": {
        "id": "k7hTO6ogm3z2"
      }
    },
    {
      "cell_type": "markdown",
      "source": [
        "1. Importing required libraries"
      ],
      "metadata": {
        "id": "xBZjfWzOm8BN"
      }
    },
    {
      "cell_type": "code",
      "source": [
        "import pandas as pd\n",
        "from sklearn.feature_extraction.text import TfidfVectorizer\n",
        "from sklearn.naive_bayes import MultinomialNB\n",
        "from imblearn.over_sampling import RandomOverSampler\n",
        "from sklearn.metrics import accuracy_score"
      ],
      "metadata": {
        "id": "6KEOg3ionAY_"
      },
      "execution_count": 1,
      "outputs": []
    },
    {
      "cell_type": "markdown",
      "source": [
        "2. Data Loading and Preprocessing"
      ],
      "metadata": {
        "id": "-Nt6eVtUnEFE"
      }
    },
    {
      "cell_type": "code",
      "source": [
        "# Load train data\n",
        "train_path = '/content/train_data.txt'\n",
        "train_data = pd.read_csv(train_path, sep=' ::: ', engine='python', names=['ID','Title', 'Genre', 'Description'])\n",
        "\n",
        "# Load test data\n",
        "test_path = '/content/test_data.txt'\n",
        "test_data = pd.read_csv(test_path, sep=' ::: ', engine='python', names=['ID', 'Title', 'Description'])\n",
        "\n",
        "# Load test data solution\n",
        "test_solution_path = '/content/test_data_solution.txt'\n",
        "test_data_solution = pd.read_csv(test_solution_path, sep=' ::: ', engine='python', names=['ID', 'Title', 'Genre','Description'])\n",
        "\n",
        "# Split the data for testing and training according to features\n",
        "X_train = train_data['Description']\n",
        "y_train = train_data['Genre']\n",
        "X_test = test_data['Description']\n",
        "y_test = test_data_solution['Genre']"
      ],
      "metadata": {
        "id": "0joZjTW4nFws"
      },
      "execution_count": 5,
      "outputs": []
    },
    {
      "cell_type": "code",
      "source": [
        "# TF-IDF vectorization\n",
        "tfidf_vectorizer = TfidfVectorizer(max_features=1000000000)\n",
        "X_train_tfidf = tfidf_vectorizer.fit_transform(X_train)\n",
        "X_test_tfidf = tfidf_vectorizer.transform(X_test)\n",
        "\n",
        "# Oversampling to handle class imbalance\n",
        "oversampler = RandomOverSampler(random_state=42)\n",
        "X_train_tfidf_resampled, y_train_resampled = oversampler.fit_resample(X_train_tfidf, y_train)"
      ],
      "metadata": {
        "id": "NHgDPrwxnM88"
      },
      "execution_count": 6,
      "outputs": []
    },
    {
      "cell_type": "markdown",
      "source": [
        "3. Training Machine Learning Algorithm\n",
        "- Naive bayes algorithm"
      ],
      "metadata": {
        "id": "r_vOg04GnRPV"
      }
    },
    {
      "cell_type": "code",
      "execution_count": 7,
      "metadata": {
        "id": "g_EvXSTNgBAe",
        "colab": {
          "base_uri": "https://localhost:8080/",
          "height": 74
        },
        "outputId": "c1551fde-c5a7-4656-c133-38c5035a8691"
      },
      "outputs": [
        {
          "output_type": "execute_result",
          "data": {
            "text/plain": [
              "MultinomialNB(alpha=0.1)"
            ],
            "text/html": [
              "<style>#sk-container-id-1 {color: black;background-color: white;}#sk-container-id-1 pre{padding: 0;}#sk-container-id-1 div.sk-toggleable {background-color: white;}#sk-container-id-1 label.sk-toggleable__label {cursor: pointer;display: block;width: 100%;margin-bottom: 0;padding: 0.3em;box-sizing: border-box;text-align: center;}#sk-container-id-1 label.sk-toggleable__label-arrow:before {content: \"▸\";float: left;margin-right: 0.25em;color: #696969;}#sk-container-id-1 label.sk-toggleable__label-arrow:hover:before {color: black;}#sk-container-id-1 div.sk-estimator:hover label.sk-toggleable__label-arrow:before {color: black;}#sk-container-id-1 div.sk-toggleable__content {max-height: 0;max-width: 0;overflow: hidden;text-align: left;background-color: #f0f8ff;}#sk-container-id-1 div.sk-toggleable__content pre {margin: 0.2em;color: black;border-radius: 0.25em;background-color: #f0f8ff;}#sk-container-id-1 input.sk-toggleable__control:checked~div.sk-toggleable__content {max-height: 200px;max-width: 100%;overflow: auto;}#sk-container-id-1 input.sk-toggleable__control:checked~label.sk-toggleable__label-arrow:before {content: \"▾\";}#sk-container-id-1 div.sk-estimator input.sk-toggleable__control:checked~label.sk-toggleable__label {background-color: #d4ebff;}#sk-container-id-1 div.sk-label input.sk-toggleable__control:checked~label.sk-toggleable__label {background-color: #d4ebff;}#sk-container-id-1 input.sk-hidden--visually {border: 0;clip: rect(1px 1px 1px 1px);clip: rect(1px, 1px, 1px, 1px);height: 1px;margin: -1px;overflow: hidden;padding: 0;position: absolute;width: 1px;}#sk-container-id-1 div.sk-estimator {font-family: monospace;background-color: #f0f8ff;border: 1px dotted black;border-radius: 0.25em;box-sizing: border-box;margin-bottom: 0.5em;}#sk-container-id-1 div.sk-estimator:hover {background-color: #d4ebff;}#sk-container-id-1 div.sk-parallel-item::after {content: \"\";width: 100%;border-bottom: 1px solid gray;flex-grow: 1;}#sk-container-id-1 div.sk-label:hover label.sk-toggleable__label {background-color: #d4ebff;}#sk-container-id-1 div.sk-serial::before {content: \"\";position: absolute;border-left: 1px solid gray;box-sizing: border-box;top: 0;bottom: 0;left: 50%;z-index: 0;}#sk-container-id-1 div.sk-serial {display: flex;flex-direction: column;align-items: center;background-color: white;padding-right: 0.2em;padding-left: 0.2em;position: relative;}#sk-container-id-1 div.sk-item {position: relative;z-index: 1;}#sk-container-id-1 div.sk-parallel {display: flex;align-items: stretch;justify-content: center;background-color: white;position: relative;}#sk-container-id-1 div.sk-item::before, #sk-container-id-1 div.sk-parallel-item::before {content: \"\";position: absolute;border-left: 1px solid gray;box-sizing: border-box;top: 0;bottom: 0;left: 50%;z-index: -1;}#sk-container-id-1 div.sk-parallel-item {display: flex;flex-direction: column;z-index: 1;position: relative;background-color: white;}#sk-container-id-1 div.sk-parallel-item:first-child::after {align-self: flex-end;width: 50%;}#sk-container-id-1 div.sk-parallel-item:last-child::after {align-self: flex-start;width: 50%;}#sk-container-id-1 div.sk-parallel-item:only-child::after {width: 0;}#sk-container-id-1 div.sk-dashed-wrapped {border: 1px dashed gray;margin: 0 0.4em 0.5em 0.4em;box-sizing: border-box;padding-bottom: 0.4em;background-color: white;}#sk-container-id-1 div.sk-label label {font-family: monospace;font-weight: bold;display: inline-block;line-height: 1.2em;}#sk-container-id-1 div.sk-label-container {text-align: center;}#sk-container-id-1 div.sk-container {/* jupyter's `normalize.less` sets `[hidden] { display: none; }` but bootstrap.min.css set `[hidden] { display: none !important; }` so we also need the `!important` here to be able to override the default hidden behavior on the sphinx rendered scikit-learn.org. See: https://github.com/scikit-learn/scikit-learn/issues/21755 */display: inline-block !important;position: relative;}#sk-container-id-1 div.sk-text-repr-fallback {display: none;}</style><div id=\"sk-container-id-1\" class=\"sk-top-container\"><div class=\"sk-text-repr-fallback\"><pre>MultinomialNB(alpha=0.1)</pre><b>In a Jupyter environment, please rerun this cell to show the HTML representation or trust the notebook. <br />On GitHub, the HTML representation is unable to render, please try loading this page with nbviewer.org.</b></div><div class=\"sk-container\" hidden><div class=\"sk-item\"><div class=\"sk-estimator sk-toggleable\"><input class=\"sk-toggleable__control sk-hidden--visually\" id=\"sk-estimator-id-1\" type=\"checkbox\" checked><label for=\"sk-estimator-id-1\" class=\"sk-toggleable__label sk-toggleable__label-arrow\">MultinomialNB</label><div class=\"sk-toggleable__content\"><pre>MultinomialNB(alpha=0.1)</pre></div></div></div></div></div>"
            ]
          },
          "metadata": {},
          "execution_count": 7
        }
      ],
      "source": [
        "# Train a Naive Bayes model (MultinomialNB)\n",
        "nb_model = MultinomialNB(alpha=0.1)\n",
        "nb_model.fit(X_train_tfidf_resampled, y_train_resampled)"
      ]
    },
    {
      "cell_type": "markdown",
      "source": [
        "4. Predict\n",
        "- By passing data through trained model"
      ],
      "metadata": {
        "id": "AAx-x9RJnqhF"
      }
    },
    {
      "cell_type": "code",
      "source": [
        "# Make predictions\n",
        "predictions = nb_model.predict(X_test_tfidf)\n"
      ],
      "metadata": {
        "id": "apV46mHPnhyA"
      },
      "execution_count": 8,
      "outputs": []
    },
    {
      "cell_type": "markdown",
      "source": [
        "5. Output Predicted Data"
      ],
      "metadata": {
        "id": "67vZbf3noGd-"
      }
    },
    {
      "cell_type": "code",
      "source": [
        "# Output predictions\n",
        "output_df = pd.DataFrame({'ID': test_data['ID'], 'Predicted_Genre': predictions})\n",
        "output_df.to_csv('predicted_genres.csv', index=False)\n",
        "\n",
        "# Print predicted genres with their respective IDs\n",
        "print(output_df)\n"
      ],
      "metadata": {
        "id": "RxBl-DqEh8Hc",
        "colab": {
          "base_uri": "https://localhost:8080/"
        },
        "outputId": "b9288261-4bbd-49f9-f89a-f6ccee0e67bb"
      },
      "execution_count": 9,
      "outputs": [
        {
          "output_type": "stream",
          "name": "stdout",
          "text": [
            "          ID Predicted_Genre\n",
            "0          1          comedy\n",
            "1          2           drama\n",
            "2          3     documentary\n",
            "3          4           drama\n",
            "4          5           drama\n",
            "...      ...             ...\n",
            "54195  54196          horror\n",
            "54196  54197         western\n",
            "54197  54198           drama\n",
            "54198  54199          horror\n",
            "54199  54200     documentary\n",
            "\n",
            "[54200 rows x 2 columns]\n"
          ]
        }
      ]
    },
    {
      "cell_type": "markdown",
      "source": [
        "6. Evaluate model"
      ],
      "metadata": {
        "id": "Xv54myuLK8xQ"
      }
    },
    {
      "cell_type": "code",
      "source": [
        "# Compute accuracy\n",
        "accuracy = accuracy_score(y_test, predictions)\n",
        "print(\"Accuracy:\", accuracy)"
      ],
      "metadata": {
        "colab": {
          "base_uri": "https://localhost:8080/"
        },
        "id": "kCUyIy2dXGTH",
        "outputId": "95e37a8d-881b-47e2-90d6-3df25d0d65e8"
      },
      "execution_count": 10,
      "outputs": [
        {
          "output_type": "stream",
          "name": "stdout",
          "text": [
            "Accuracy: 0.5567158671586716\n"
          ]
        }
      ]
    }
  ]
}